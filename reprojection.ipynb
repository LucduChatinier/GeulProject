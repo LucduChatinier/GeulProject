{
 "cells": [
  {
   "cell_type": "markdown",
   "id": "c27f2c9f",
   "metadata": {},
   "source": [
    "# Reprojection of image bboxes to a new projection with chosen resolution"
   ]
  },
  {
   "cell_type": "markdown",
   "id": "63b5f52e",
   "metadata": {},
   "source": [
    "If you don't have the required packages installed yet, run the stuff below first."
   ]
  },
  {
   "cell_type": "code",
   "execution_count": null,
   "id": "112698a4",
   "metadata": {
    "scrolled": false
   },
   "outputs": [],
   "source": [
    "# !conda install matplotlib cartopy\n",
    "!pip install git+https://github.com/TAHMO/OpenRiverCamLib.git\n"
   ]
  },
  {
   "cell_type": "markdown",
   "id": "185a1328",
   "metadata": {},
   "source": [
    "Import the necessary packages"
   ]
  },
  {
   "cell_type": "code",
   "execution_count": null,
   "id": "3791957f",
   "metadata": {
    "scrolled": true
   },
   "outputs": [],
   "source": [
    "%matplotlib inline\n",
    "import OpenRiverCam as orc\n",
    "import matplotlib.pyplot as plt\n",
    "import cv2"
   ]
  },
  {
   "cell_type": "markdown",
   "id": "ac6d960d",
   "metadata": {},
   "source": [
    "# Extracting a frame from video and lens correcting it.\n",
    "We have lens characteristics of the used camera stored in a variable called  `camera_type['lensParameters']` inside `example_data.py`. Lens distortions can be corrected with this. Let's extract one frame from a sample video (in `video_file`) and undistort it. We plot both distorted and undistorted. We use OpenCV to interact and manipualte video files and frames, and funcs of the OpenRiverCam lib (check docstrings to understand how they work. They are pretty well documented)."
   ]
  },
  {
   "cell_type": "code",
   "execution_count": null,
   "id": "3de17068",
   "metadata": {},
   "outputs": [],
   "source": [
    "video_file = \"../examples/sample_limburg.mkv\"\n",
    "from example_data import camera_type\n",
    "# open file for reading\n",
    "cap = cv2.VideoCapture(video_file)\n",
    "# extract the first frame (img will contain the frame)\n",
    "success, img = cap.read()\n",
    "img_corr = orc.cv._corr_lens(img, **camera_type[\"lensParameters\"])\n",
    "\n",
    "plt.figure(figsize=(18, 16))\n",
    "plt.subplot(211)\n",
    "plt.imshow(img)\n",
    "plt.subplot(212)\n",
    "plt.imshow(img_corr)\n"
   ]
  },
  {
   "cell_type": "markdown",
   "id": "960e006a",
   "metadata": {},
   "source": [
    "Now we can make a projection using some of our own control points, let's roughly use some controls over the staff gauge"
   ]
  },
  {
   "cell_type": "code",
   "execution_count": null,
   "id": "354e5c3c",
   "metadata": {},
   "outputs": [],
   "source": [
    "top_staff, bottom_staff, left_staff, right_staff = 0, 1.5, 0., 0.5\n",
    "resolution = 0.005  # let us use a 1 cm resolution\n",
    "\n",
    "src = [\n",
    "    [580, 0],\n",
    "    [580, 100],\n",
    "    [610, 100],\n",
    "    [610, 0],\n",
    "]\n",
    "dst = [\n",
    "    [int(left_staff/resolution), int(top_staff/resolution)],\n",
    "    [int(left_staff/resolution), int(bottom_staff/resolution)],\n",
    "    [int(right_staff/resolution), int(bottom_staff/resolution)],\n",
    "    [int(right_staff/resolution), int(top_staff/resolution)],\n",
    "]\n",
    "\n",
    "\n",
    "list(zip(*src))\n",
    "plt.figure(figsize=(18, 10))\n",
    "plt.imshow(img_corr)\n",
    "plt.plot(*list(zip(*src)), \"r\")"
   ]
  },
  {
   "cell_type": "markdown",
   "id": "6c6129bb",
   "metadata": {},
   "source": [
    "# Make a transformation\n",
    "open CV can transform the above image so that only the red box is returned, and it is warped so that the 4 coordinates are in fact the points as in `dst`. Thius requires a transformation function and a warp."
   ]
  },
  {
   "cell_type": "code",
   "execution_count": null,
   "id": "4982250d",
   "metadata": {},
   "outputs": [],
   "source": [
    "# make transform object\n",
    "M = orc.cv._get_M(src, dst)\n",
    "cols = int((right_staff - left_staff) / resolution) # amount of columns. We compute tha\n",
    "rows = int((bottom_staff - top_staff) / resolution)\n",
    "img_warp = cv2.warpPerspective(img_corr, M, (cols, rows), flags=cv2.INTER_AREA)\n",
    "img_warp\n"
   ]
  },
  {
   "cell_type": "code",
   "execution_count": null,
   "id": "e7c1d984",
   "metadata": {},
   "outputs": [],
   "source": [
    "plt.imshow(img_warp)"
   ]
  },
  {
   "cell_type": "markdown",
   "id": "c326d05d",
   "metadata": {},
   "source": [
    "Yay a transformed image, with each pixel being 5 mm in length!"
   ]
  },
  {
   "cell_type": "code",
   "execution_count": null,
   "id": "a12016a7",
   "metadata": {},
   "outputs": [],
   "source": []
  },
  {
   "cell_type": "code",
   "execution_count": null,
   "id": "31ef065d",
   "metadata": {},
   "outputs": [],
   "source": []
  }
 ],
 "metadata": {
  "kernelspec": {
   "display_name": "Python 3 (ipykernel)",
   "language": "python",
   "name": "python3"
  },
  "language_info": {
   "codemirror_mode": {
    "name": "ipython",
    "version": 3
   },
   "file_extension": ".py",
   "mimetype": "text/x-python",
   "name": "python",
   "nbconvert_exporter": "python",
   "pygments_lexer": "ipython3",
   "version": "3.9.7"
  }
 },
 "nbformat": 4,
 "nbformat_minor": 5
}
